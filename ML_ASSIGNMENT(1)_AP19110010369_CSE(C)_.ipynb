{
  "cells": [
    {
      "cell_type": "markdown",
      "metadata": {
        "id": "view-in-github",
        "colab_type": "text"
      },
      "source": [
        "<a href=\"https://colab.research.google.com/github/Chandana472/-AP19110010369-_CSE306L/blob/main/ML_ASSIGNMENT(1)_AP19110010369_CSE(C)_.ipynb\" target=\"_parent\"><img src=\"https://colab.research.google.com/assets/colab-badge.svg\" alt=\"Open In Colab\"/></a>"
      ]
    },
    {
      "cell_type": "code",
      "execution_count": null,
      "id": "aa81cf5b",
      "metadata": {
        "id": "aa81cf5b"
      },
      "outputs": [],
      "source": [
        "##Write a python program to create a random array and compute the Covariance Matrix and Correlation Matrix."
      ]
    },
    {
      "cell_type": "code",
      "execution_count": null,
      "id": "4fe8d2a0",
      "metadata": {
        "id": "4fe8d2a0",
        "outputId": "dcf00290-6011-4fea-d2a9-3894d85cb9ca"
      },
      "outputs": [
        {
          "name": "stdout",
          "output_type": "stream",
          "text": [
            "Enter the size of arrays:2\n",
            "[[546 158]\n",
            " [344 359]]\n",
            "[[132  34]\n",
            " [462 226]]\n"
          ]
        }
      ],
      "source": [
        "import numpy as np\n",
        "import random\n",
        "n=int(input(\"Enter the size of arrays:\"))\n",
        "array1 = np.random.randint(1000,size=(n,n))\n",
        "array2=np.random.randint(1000,size=(n,n))\n",
        "print(array1)\n",
        "print(array2)"
      ]
    },
    {
      "cell_type": "code",
      "execution_count": null,
      "id": "ad687463",
      "metadata": {
        "id": "ad687463",
        "outputId": "8731f338-ef6d-416d-b8f3-67178b605802"
      },
      "outputs": [
        {
          "name": "stdout",
          "output_type": "stream",
          "text": [
            "18846.1875\n"
          ]
        }
      ],
      "source": [
        "##Variance of array1\n",
        "var=np.var(array1)\n",
        "print(var)"
      ]
    },
    {
      "cell_type": "code",
      "execution_count": null,
      "id": "08941cbf",
      "metadata": {
        "id": "08941cbf",
        "outputId": "95c8b41c-c7c4-40ea-f76b-1993adac47ba"
      },
      "outputs": [
        {
          "name": "stdout",
          "output_type": "stream",
          "text": [
            "25192.75\n"
          ]
        }
      ],
      "source": [
        "##Variance of array2\n",
        "var2=np.var(array2)\n",
        "print(var2)"
      ]
    },
    {
      "cell_type": "code",
      "execution_count": null,
      "id": "3c7f3c93",
      "metadata": {
        "id": "3c7f3c93",
        "outputId": "d957225e-c9a4-4345-caf7-ea0bae2a456a"
      },
      "outputs": [
        {
          "name": "stdout",
          "output_type": "stream",
          "text": [
            "-1835.25\n"
          ]
        }
      ],
      "source": [
        "def cov(array1, array2):\n",
        "\n",
        "    if len(array1) != len(array2):\n",
        "        return\n",
        "\n",
        "    array1_mean = np.mean(array1)\n",
        "    array2_mean = np.mean(array2)\n",
        "\n",
        "    sum = 0\n",
        "\n",
        "    for i in range(0, len(array1)):\n",
        "        sum = np.sum((array1[i] - array1_mean) * (array2[i] - array2_mean))/(len(array1)-1)##using mean to find covariance\n",
        "    return (sum)\n",
        "a=cov(array1,array2)\n",
        "print(a)"
      ]
    },
    {
      "cell_type": "code",
      "execution_count": null,
      "id": "b4ca8cb6",
      "metadata": {
        "id": "b4ca8cb6",
        "outputId": "d5764122-4356-4e04-a9c6-54e03fa1bc44"
      },
      "outputs": [
        {
          "name": "stdout",
          "output_type": "stream",
          "text": [
            "[[18846.1875 -1835.25  ]\n",
            " [-1835.25   25192.75  ]]\n"
          ]
        }
      ],
      "source": [
        "##Covariance Matrix\n",
        "Cov=np.array([[var,a],[a,var2]])\n",
        "print(Cov)"
      ]
    },
    {
      "cell_type": "code",
      "execution_count": null,
      "id": "3bb37432",
      "metadata": {
        "id": "3bb37432",
        "outputId": "a10b6da8-7c56-43f6-c8d9-5b8c0baea2cf"
      },
      "outputs": [
        {
          "name": "stdout",
          "output_type": "stream",
          "text": [
            "[[ 0.86491607 -0.08422591]\n",
            " [-0.08422591  1.15618155]]\n"
          ]
        }
      ],
      "source": [
        "##Correlation Matrix\n",
        "Corr=Cov/(array1.std()*array2.std())\n",
        "print(Corr)"
      ]
    },
    {
      "cell_type": "code",
      "execution_count": null,
      "id": "9d5e5f42",
      "metadata": {
        "id": "9d5e5f42"
      },
      "outputs": [],
      "source": [
        "###2)Write a python program to create a random array and compute Euclidian distance between every data point."
      ]
    },
    {
      "cell_type": "code",
      "execution_count": null,
      "id": "9f82d6f9",
      "metadata": {
        "id": "9f82d6f9",
        "outputId": "5bb7bce6-bc8a-4cf4-8a8b-4101c70ce363"
      },
      "outputs": [
        {
          "name": "stdout",
          "output_type": "stream",
          "text": [
            "Enter number of elements in the array:3\n",
            "793.1714820894659\n"
          ]
        }
      ],
      "source": [
        "import numpy as np\n",
        "n=int(input(\"Enter number of elements in the array:\"))\n",
        "array1=np.random.randint(1000,size=n)\n",
        "array2=np.random.randint(1000,size=n)\n",
        "d=0\n",
        "def euclidean_distance(array1,array2):\n",
        "    for i in range(0, len(array1)):\n",
        "        for j in range(0,len(array2)):\n",
        "            d = np.sqrt(sum((array1-array2)**2))\n",
        "            return (d)\n",
        "print(euclidean_distance(array1,array2))"
      ]
    },
    {
      "cell_type": "code",
      "execution_count": null,
      "id": "de54d955",
      "metadata": {
        "id": "de54d955",
        "outputId": "295d2aa5-f59e-4178-e08c-74872b66301a"
      },
      "outputs": [
        {
          "name": "stdout",
          "output_type": "stream",
          "text": [
            "793.1714820894659\n"
          ]
        }
      ],
      "source": [
        "##With linalg.norm of numpy\n",
        "dist = np.linalg.norm(array1-array2)\n",
        "print(dist)"
      ]
    },
    {
      "cell_type": "code",
      "execution_count": null,
      "id": "a09a4d96",
      "metadata": {
        "id": "a09a4d96"
      },
      "outputs": [],
      "source": [
        ""
      ]
    }
  ],
  "metadata": {
    "kernelspec": {
      "display_name": "Python 3 (ipykernel)",
      "language": "python",
      "name": "python3"
    },
    "language_info": {
      "codemirror_mode": {
        "name": "ipython",
        "version": 3
      },
      "file_extension": ".py",
      "mimetype": "text/x-python",
      "name": "python",
      "nbconvert_exporter": "python",
      "pygments_lexer": "ipython3",
      "version": "3.9.7"
    },
    "colab": {
      "name": "ML_ASSIGNMENT(1)_AP19110010369-CSE(C) .ipynb",
      "provenance": [],
      "include_colab_link": true
    }
  },
  "nbformat": 4,
  "nbformat_minor": 5
}